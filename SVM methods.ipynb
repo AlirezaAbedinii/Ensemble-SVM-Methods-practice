{
 "cells": [
  {
   "cell_type": "code",
   "execution_count": 1,
   "id": "authentic-finish",
   "metadata": {},
   "outputs": [],
   "source": [
    "import numpy as np\n",
    "import pandas as pd\n",
    "from sklearn.model_selection import cross_val_score\n",
    "from sklearn.svm import LinearSVC\n",
    "import warnings\n",
    "import sklearn.svm"
   ]
  },
  {
   "cell_type": "code",
   "execution_count": 2,
   "id": "covered-union",
   "metadata": {},
   "outputs": [],
   "source": [
    "data_df = pd.read_excel('LSVT_voice_rehabilitation.xlsx')\n"
   ]
  },
  {
   "cell_type": "code",
   "execution_count": 3,
   "id": "intimate-transcription",
   "metadata": {},
   "outputs": [],
   "source": [
    "X = data_df.to_numpy()\n",
    "Y_data = pd.read_excel('LSVT_voice_rehabilitation.xlsx', sheet_name='Binary response')"
   ]
  },
  {
   "cell_type": "markdown",
   "id": "laughing-asset",
   "metadata": {},
   "source": [
    "# Linear kernel"
   ]
  },
  {
   "cell_type": "code",
   "execution_count": 4,
   "id": "spoken-secretariat",
   "metadata": {
    "scrolled": true
   },
   "outputs": [
    {
     "name": "stdout",
     "output_type": "stream",
     "text": [
      "F1-measure score for linear svm is: 0.38947330447330447\n",
      "Accuracy for linear svm is: 0.5185897435897436\n"
     ]
    }
   ],
   "source": [
    "warnings.filterwarnings('ignore')\n",
    "clf = LinearSVC(max_iter=50000)\n",
    "Y = Y_data.to_numpy()\n",
    "Y = np.squeeze(Y)\n",
    "f1_scores = cross_val_score(clf, X, Y, cv=10, scoring='f1_macro')\n",
    "acc_scores = cross_val_score(clf, X, Y, cv=10)\n",
    "print(f'F1-measure score for linear svm is: {np.mean(f1_scores)}')\n",
    "print(f'Accuracy for linear svm is: {np.mean(acc_scores)}')"
   ]
  },
  {
   "cell_type": "markdown",
   "id": "ahead-documentation",
   "metadata": {},
   "source": [
    "# Polynomial kernel"
   ]
  },
  {
   "cell_type": "code",
   "execution_count": 5,
   "id": "parental-animation",
   "metadata": {},
   "outputs": [
    {
     "name": "stdout",
     "output_type": "stream",
     "text": [
      "F1-measure score for polynomial svm with d=2, r=-5 is: 0.39535383862783247\n",
      "Accuracy for polynomial svm with d=2, r=-5 is: 0.4948717948717949\n",
      "\n",
      "F1-measure score for polynomial svm with d=2, r=0 is: 0.3998268398268398\n",
      "Accuracy for polynomial svm with d=2, r=0 is: 0.6666666666666667\n",
      "\n",
      "F1-measure score for polynomial svm with d=2, r=10 is: 0.3998268398268398\n",
      "Accuracy for polynomial svm with d=2, r=10 is: 0.6666666666666667\n",
      "\n",
      "F1-measure score for polynomial svm with d=3, r=-5 is: 0.44493359366811386\n",
      "Accuracy for polynomial svm with d=3, r=-5 is: 0.5128205128205128\n",
      "\n",
      "F1-measure score for polynomial svm with d=3, r=0 is: 0.3998268398268398\n",
      "Accuracy for polynomial svm with d=3, r=0 is: 0.6666666666666667\n",
      "\n",
      "F1-measure score for polynomial svm with d=3, r=10 is: 0.3998268398268398\n",
      "Accuracy for polynomial svm with d=3, r=10 is: 0.6666666666666667\n",
      "\n",
      "F1-measure score for polynomial svm with d=5, r=-5 is: 0.49150814871403103\n",
      "Accuracy for polynomial svm with d=5, r=-5 is: 0.532051282051282\n",
      "\n",
      "F1-measure score for polynomial svm with d=5, r=0 is: 0.39701298701298704\n",
      "Accuracy for polynomial svm with d=5, r=0 is: 0.6589743589743591\n",
      "\n",
      "F1-measure score for polynomial svm with d=5, r=10 is: 0.4997535058680569\n",
      "Accuracy for polynomial svm with d=5, r=10 is: 0.6057692307692307\n",
      "\n"
     ]
    }
   ],
   "source": [
    "for d in (2, 3, 5):\n",
    "    for r in (-5, 0, 10):\n",
    "        clf = sklearn.svm.SVC(kernel='poly', degree=d, coef0=r, max_iter=50000)\n",
    "        f1_scores = cross_val_score(clf, X, Y, cv=10, scoring='f1_macro')\n",
    "        acc_scores = cross_val_score(clf, X, Y, cv=10)\n",
    "        print(f'F1-measure score for polynomial svm with d={d}, r={r} is: {np.mean(f1_scores)}')\n",
    "        print(f'Accuracy for polynomial svm with d={d}, r={r} is: {np.mean(acc_scores)}')\n",
    "        print()"
   ]
  },
  {
   "cell_type": "markdown",
   "id": "hidden-kingdom",
   "metadata": {},
   "source": [
    "# rbf kernel"
   ]
  },
  {
   "cell_type": "code",
   "execution_count": 11,
   "id": "stock-terminology",
   "metadata": {
    "scrolled": false
   },
   "outputs": [
    {
     "name": "stdout",
     "output_type": "stream",
     "text": [
      "F1-measure score for rbf svm with gamma=0.001 is: 0.3998268398268398\n",
      "Accuracy for rbf svm with gamma=0.001 is: 0.6666666666666667\n",
      "\n",
      "F1-measure score for rbf svm with gamma=2.0 is: 0.3998268398268398\n",
      "Accuracy for rbf svm with gamma=2.0 is: 0.6666666666666667\n",
      "\n",
      "F1-measure score for rbf svm with gamma=300.0 is: 0.3998268398268398\n",
      "Accuracy for rbf svm with gamma=300.0 is: 0.6666666666666667\n",
      "\n"
     ]
    }
   ],
   "source": [
    "for gamma in (0.001, 2.0, 300.0):\n",
    "    clf = sklearn.svm.SVC(kernel='rbf', gamma=gamma)\n",
    "    f1_scores = cross_val_score(clf, X, Y, cv=10, scoring='f1_macro')\n",
    "    acc_scores = cross_val_score(clf, X, Y, cv=10)\n",
    "#     print(acc_scores)\n",
    "    print(f'F1-measure score for rbf svm with gamma={clf.gamma} is: {np.mean(f1_scores)}')\n",
    "    print(f'Accuracy for rbf svm with gamma={clf.gamma} is: {np.mean(acc_scores)}')\n",
    "    print()"
   ]
  },
  {
   "cell_type": "markdown",
   "id": "authorized-server",
   "metadata": {},
   "source": [
    "# Sigmoid kernel"
   ]
  },
  {
   "cell_type": "code",
   "execution_count": 14,
   "id": "noticed-remark",
   "metadata": {
    "scrolled": true
   },
   "outputs": [
    {
     "name": "stdout",
     "output_type": "stream",
     "text": [
      "F1-measure score for sigmoid svm with r=0.001 is: 0.49537931839402427\n",
      "Accuracy for sigmoid svm with r=0.001 is: 0.5743589743589744\n",
      "\n",
      "F1-measure score for sigmoid svm with r=0.5 is: 0.38422417451829216\n",
      "Accuracy for sigmoid svm with r=0.5 is: 0.5269230769230769\n",
      "\n",
      "F1-measure score for sigmoid svm with r=2.0 is: 0.3998268398268398\n",
      "Accuracy for sigmoid svm with r=2.0 is: 0.6666666666666667\n",
      "\n"
     ]
    }
   ],
   "source": [
    "for r in (0.001, 0.5, 2.0):\n",
    "    clf = sklearn.svm.SVC(kernel='sigmoid', coef0=r)\n",
    "    f1_scores = cross_val_score(clf, X, Y, cv=10, scoring='f1_macro')\n",
    "    acc_scores = cross_val_score(clf, X, Y, cv=10)\n",
    "#     print(acc_scores)\n",
    "    print(f'F1-measure score for sigmoid svm with r={clf.coef0} is: {np.mean(f1_scores)}')\n",
    "    print(f'Accuracy for sigmoid svm with r={clf.coef0} is: {np.mean(acc_scores)}')\n",
    "    print()"
   ]
  },
  {
   "cell_type": "markdown",
   "id": "revised-savage",
   "metadata": {
    "direction": "rtl"
   },
   "source": [
    "# تاثیر پارامتر های هر مدل به عملکرد آن:\n",
    "## کرنل خطی: پارامتری نداشت.\n",
    "## کرنل چند جمله ای:\n",
    "    دو پارامتر d,r را داشت که به ازای هر پارامتر 3 اندازه متفاوت تست شد. تاثیر پارامتر r به این صورت بود که معمولا حالت r=0 خوب عمل نمیکرد و حالت -5 نیز خوب عمل میکرد.در حالت درجه5 نیز r برابر با 10 خوب عمل کرد.برای درجه های تست شده (2و3و5) با بالا رفتن درجه نیز عملکرد الگوریتم به طور نسبی بهتر در f1-measure و بدتر در accuracy شد.\n",
    "## کرنل سیگموید:\n",
    "    تنها پارامتر r را داشت که برای سه مقدار تست شده بهترین عملکرد  را r برابر با 0.001 داشت از نظر f1-measure و r=2 از نظر accuracy.\n",
    "## کرنل rbf:\n",
    "    پارامتر آن گاما است که با تغییر گاما و قرار دادن مقادیر مختلف برای آن عملکرد الگوریتم دچار تغییر نشد!"
   ]
  },
  {
   "cell_type": "markdown",
   "id": "pleased-whole",
   "metadata": {
    "direction": "rtl"
   },
   "source": [
    "# بهترین مدل:\n",
    "### بهترین مدل از نظر اندازه F1 مدل های با کرنل سیگموید و اندازه r برابر 0.001 و مدل چندجمله ای با d=5,r=-5 بود که مقداری به اندازه 0.49 می‌شد.\n",
    "### بهترین مدل از نظر اندازه accuracy برابر با مدل سیگویید با r=2، مدل های با کرنل rbf و چهار مدل در کرنل چند جمله به ترتیب با اندازه های d,r برابر با 2,0 ، 2,10 ، 3,0 ، 3,10 است که مقدار 0.66 م‌شد.\n"
   ]
  }
 ],
 "metadata": {
  "kernelspec": {
   "display_name": "Python 3",
   "language": "python",
   "name": "python3"
  },
  "language_info": {
   "codemirror_mode": {
    "name": "ipython",
    "version": 3
   },
   "file_extension": ".py",
   "mimetype": "text/x-python",
   "name": "python",
   "nbconvert_exporter": "python",
   "pygments_lexer": "ipython3",
   "version": "3.7.2"
  }
 },
 "nbformat": 4,
 "nbformat_minor": 5
}
